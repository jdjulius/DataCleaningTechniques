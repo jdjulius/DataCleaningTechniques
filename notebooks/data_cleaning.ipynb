{
 "cells": [
  {
   "cell_type": "markdown",
   "source": [
    "# Cleaning Techniques"
   ],
   "metadata": {
    "collapsed": false
   }
  },
  {
   "cell_type": "code",
   "execution_count": 1,
   "outputs": [],
   "source": [
    "import pandas as pd\n",
    "import numpy as np\n",
    "import seaborn as sd\n"
   ],
   "metadata": {
    "collapsed": false,
    "ExecuteTime": {
     "end_time": "2023-10-05T03:04:51.953883600Z",
     "start_time": "2023-10-05T03:04:51.940984200Z"
    }
   }
  },
  {
   "cell_type": "code",
   "execution_count": 35,
   "outputs": [],
   "source": [
    "df = pd.read_csv('../data/raw/Customer Call List.csv', sep=';')"
   ],
   "metadata": {
    "collapsed": false,
    "ExecuteTime": {
     "end_time": "2023-10-05T03:43:54.157104500Z",
     "start_time": "2023-10-05T03:43:54.147106100Z"
    }
   }
  },
  {
   "cell_type": "code",
   "execution_count": 37,
   "outputs": [
    {
     "data": {
      "text/plain": "   CustomerID First_Name Last_Name  Phone_Number  \\\n0        1001      Frodo   Baggins  123-545-5421   \n1        1002       Abed     Nadir  123/643/9775   \n2        1003     Walter    /White    7066950392   \n3        1004     Dwight   Schrute  123-543-2345   \n4        1005        Jon      Snow  876|678|3469   \n\n                                 Address Paying Customer Do_Not_Contact  \\\n0                  123 Shire Lane, Shire             Yes             No   \n1                    93 West Main Street              No            Yes   \n2                     298 Drugs Driveway               N            NaN   \n3  980 Paper Avenue, Pennsylvania, 18503             Yes              Y   \n4                       123 Dragons Road               Y             No   \n\n  Not_Useful_Column  Unnamed: 8  Unnamed: 9  \n0         VERDADERO         NaN         NaN  \n1             FALSO         NaN         NaN  \n2         VERDADERO         NaN         NaN  \n3         VERDADERO         NaN         NaN  \n4         VERDADERO         NaN         NaN  ",
      "text/html": "<div>\n<style scoped>\n    .dataframe tbody tr th:only-of-type {\n        vertical-align: middle;\n    }\n\n    .dataframe tbody tr th {\n        vertical-align: top;\n    }\n\n    .dataframe thead th {\n        text-align: right;\n    }\n</style>\n<table border=\"1\" class=\"dataframe\">\n  <thead>\n    <tr style=\"text-align: right;\">\n      <th></th>\n      <th>CustomerID</th>\n      <th>First_Name</th>\n      <th>Last_Name</th>\n      <th>Phone_Number</th>\n      <th>Address</th>\n      <th>Paying Customer</th>\n      <th>Do_Not_Contact</th>\n      <th>Not_Useful_Column</th>\n      <th>Unnamed: 8</th>\n      <th>Unnamed: 9</th>\n    </tr>\n  </thead>\n  <tbody>\n    <tr>\n      <th>0</th>\n      <td>1001</td>\n      <td>Frodo</td>\n      <td>Baggins</td>\n      <td>123-545-5421</td>\n      <td>123 Shire Lane, Shire</td>\n      <td>Yes</td>\n      <td>No</td>\n      <td>VERDADERO</td>\n      <td>NaN</td>\n      <td>NaN</td>\n    </tr>\n    <tr>\n      <th>1</th>\n      <td>1002</td>\n      <td>Abed</td>\n      <td>Nadir</td>\n      <td>123/643/9775</td>\n      <td>93 West Main Street</td>\n      <td>No</td>\n      <td>Yes</td>\n      <td>FALSO</td>\n      <td>NaN</td>\n      <td>NaN</td>\n    </tr>\n    <tr>\n      <th>2</th>\n      <td>1003</td>\n      <td>Walter</td>\n      <td>/White</td>\n      <td>7066950392</td>\n      <td>298 Drugs Driveway</td>\n      <td>N</td>\n      <td>NaN</td>\n      <td>VERDADERO</td>\n      <td>NaN</td>\n      <td>NaN</td>\n    </tr>\n    <tr>\n      <th>3</th>\n      <td>1004</td>\n      <td>Dwight</td>\n      <td>Schrute</td>\n      <td>123-543-2345</td>\n      <td>980 Paper Avenue, Pennsylvania, 18503</td>\n      <td>Yes</td>\n      <td>Y</td>\n      <td>VERDADERO</td>\n      <td>NaN</td>\n      <td>NaN</td>\n    </tr>\n    <tr>\n      <th>4</th>\n      <td>1005</td>\n      <td>Jon</td>\n      <td>Snow</td>\n      <td>876|678|3469</td>\n      <td>123 Dragons Road</td>\n      <td>Y</td>\n      <td>No</td>\n      <td>VERDADERO</td>\n      <td>NaN</td>\n      <td>NaN</td>\n    </tr>\n  </tbody>\n</table>\n</div>"
     },
     "execution_count": 37,
     "metadata": {},
     "output_type": "execute_result"
    }
   ],
   "source": [
    "df.head()"
   ],
   "metadata": {
    "collapsed": false,
    "ExecuteTime": {
     "end_time": "2023-10-05T03:44:04.225454900Z",
     "start_time": "2023-10-05T03:44:03.326507600Z"
    }
   }
  },
  {
   "cell_type": "markdown",
   "source": [
    "## Duplicates"
   ],
   "metadata": {
    "collapsed": false
   }
  },
  {
   "cell_type": "code",
   "execution_count": 38,
   "outputs": [],
   "source": [
    "df = df.drop_duplicates()"
   ],
   "metadata": {
    "collapsed": false,
    "ExecuteTime": {
     "end_time": "2023-10-05T03:44:07.762427700Z",
     "start_time": "2023-10-05T03:44:07.741332900Z"
    }
   }
  },
  {
   "cell_type": "markdown",
   "source": [
    "## Drop columns"
   ],
   "metadata": {
    "collapsed": false
   }
  },
  {
   "cell_type": "code",
   "execution_count": 39,
   "outputs": [],
   "source": [
    "df = df.drop(columns=[\"Not_Useful_Column\", \"Unnamed: 8\", \"Unnamed: 9\"])"
   ],
   "metadata": {
    "collapsed": false,
    "ExecuteTime": {
     "end_time": "2023-10-05T03:44:09.930074600Z",
     "start_time": "2023-10-05T03:44:09.904458800Z"
    }
   }
  },
  {
   "cell_type": "markdown",
   "source": [
    "## Clean characters from column"
   ],
   "metadata": {
    "collapsed": false
   }
  },
  {
   "cell_type": "markdown",
   "source": [
    "### Last name column"
   ],
   "metadata": {
    "collapsed": false
   }
  },
  {
   "cell_type": "code",
   "execution_count": 40,
   "outputs": [
    {
     "name": "stdout",
     "output_type": "stream",
     "text": [
      "0        Baggins\n",
      "1          Nadir\n",
      "2         /White\n",
      "3        Schrute\n",
      "4           Snow\n",
      "5        Swanson\n",
      "6         Winger\n",
      "7         Holmes\n",
      "8            NaN\n",
      "9         Parker\n",
      "10        Gamgee\n",
      "11     ...Potter\n",
      "12        Draper\n",
      "13         Knope\n",
      "14    Flenderson\n",
      "15       Weasley\n",
      "16         Scott\n",
      "17          Kent\n",
      "18        Braton\n",
      "19     Skywalker\n",
      "Name: Last_Name, dtype: object\n"
     ]
    }
   ],
   "source": [
    "d = df[\"Last_Name\"].str.strip(\"...\")\n",
    "d = df[\"Last_Name\"].str.lstrip(\"...\")\n",
    "d = df[\"Last_Name\"].str.lstrip(\"/\")\n",
    "d = df[\"Last_Name\"].str.rstrip(\"_\")\n",
    "\n",
    "print(d)"
   ],
   "metadata": {
    "collapsed": false,
    "ExecuteTime": {
     "end_time": "2023-10-05T03:44:11.903830900Z",
     "start_time": "2023-10-05T03:44:11.885831600Z"
    }
   }
  },
  {
   "cell_type": "code",
   "execution_count": 41,
   "outputs": [
    {
     "name": "stdout",
     "output_type": "stream",
     "text": [
      "0        Baggins\n",
      "1          Nadir\n",
      "2          White\n",
      "3        Schrute\n",
      "4           Snow\n",
      "5        Swanson\n",
      "6         Winger\n",
      "7         Holmes\n",
      "8            NaN\n",
      "9         Parker\n",
      "10        Gamgee\n",
      "11        Potter\n",
      "12        Draper\n",
      "13         Knope\n",
      "14    Flenderson\n",
      "15       Weasley\n",
      "16         Scott\n",
      "17          Kent\n",
      "18        Braton\n",
      "19     Skywalker\n",
      "Name: Last_Name, dtype: object\n"
     ]
    }
   ],
   "source": [
    "df[\"Last_Name\"] = df[\"Last_Name\"].str.strip(\"123._/\")\n",
    "print(df[\"Last_Name\"])"
   ],
   "metadata": {
    "collapsed": false,
    "ExecuteTime": {
     "end_time": "2023-10-05T03:44:12.914151200Z",
     "start_time": "2023-10-05T03:44:12.899640900Z"
    }
   }
  },
  {
   "cell_type": "markdown",
   "source": [
    "### Phone number column\n"
   ],
   "metadata": {
    "collapsed": false
   }
  },
  {
   "cell_type": "code",
   "execution_count": 42,
   "outputs": [
    {
     "name": "stdout",
     "output_type": "stream",
     "text": [
      "0     123-545-5421\n",
      "1     123-643-9775\n",
      "2     706-695-0392\n",
      "3     123-543-2345\n",
      "4     876-678-3469\n",
      "5     304-762-2467\n",
      "6                 \n",
      "7     876-678-3469\n",
      "8               Na\n",
      "9     123-545-5421\n",
      "10                \n",
      "11    706-695-0392\n",
      "12    123-543-2345\n",
      "13    876-678-3469\n",
      "14    304-762-2467\n",
      "15    123-545-5421\n",
      "16    123-643-9775\n",
      "17    706-695-0392\n",
      "18              Na\n",
      "19    876-678-3469\n",
      "Name: Phone_Number, dtype: object\n"
     ]
    },
    {
     "name": "stderr",
     "output_type": "stream",
     "text": [
      "C:\\Users\\Julio\\AppData\\Local\\Temp\\ipykernel_23924\\3032819396.py:1: FutureWarning: The default value of regex will change from True to False in a future version.\n",
      "  df[\"Phone_Number\"] = df[\"Phone_Number\"].str.replace('[^a-zA-Z0-9]','')\n"
     ]
    }
   ],
   "source": [
    "df[\"Phone_Number\"] = df[\"Phone_Number\"].str.replace('[^a-zA-Z0-9]','')\n",
    "\n",
    "df[\"Phone_Number\"] = df[\"Phone_Number\"].apply(lambda x: str(x))\n",
    "\n",
    "df[\"Phone_Number\"] = df[\"Phone_Number\"].apply(lambda x: x[0:3] + '-' + x[3:6] + '-' + x[6:10])\n",
    "\n",
    "df[\"Phone_Number\"] = df[\"Phone_Number\"].str.replace('nan--','')\n",
    "\n",
    "df[\"Phone_Number\"] = df[\"Phone_Number\"].str.replace('--','')\n",
    "\n",
    "print(df[\"Phone_Number\"])"
   ],
   "metadata": {
    "collapsed": false,
    "ExecuteTime": {
     "end_time": "2023-10-05T03:44:14.489222300Z",
     "start_time": "2023-10-05T03:44:14.475223300Z"
    }
   }
  },
  {
   "cell_type": "markdown",
   "source": [
    "### Adress column\n"
   ],
   "metadata": {
    "collapsed": false
   }
  },
  {
   "cell_type": "code",
   "execution_count": 43,
   "outputs": [
    {
     "name": "stderr",
     "output_type": "stream",
     "text": [
      "C:\\Users\\Julio\\AppData\\Local\\Temp\\ipykernel_23924\\402225430.py:1: FutureWarning: In a future version of pandas all arguments of StringMethods.split except for the argument 'pat' will be keyword-only.\n",
      "  df[[\"Street_Adress\",\"State\",\"Zip_code\"]] = df[\"Address\"].str.split(',',2, expand=True)\n"
     ]
    },
    {
     "data": {
      "text/plain": "    CustomerID First_Name   Last_Name  Phone_Number  \\\n0         1001      Frodo     Baggins  123-545-5421   \n1         1002       Abed       Nadir  123-643-9775   \n2         1003     Walter       White  706-695-0392   \n3         1004     Dwight     Schrute  123-543-2345   \n4         1005        Jon        Snow  876-678-3469   \n5         1006        Ron     Swanson  304-762-2467   \n6         1007       Jeff      Winger                 \n7         1008   Sherlock      Holmes  876-678-3469   \n8         1009    Gandalf         NaN            Na   \n9         1010      Peter      Parker  123-545-5421   \n10        1011    Samwise      Gamgee                 \n11        1012      Harry      Potter  706-695-0392   \n12        1013        Don      Draper  123-543-2345   \n13        1014     Leslie       Knope  876-678-3469   \n14        1015       Toby  Flenderson  304-762-2467   \n15        1016        Ron     Weasley  123-545-5421   \n16        1017   Michael        Scott  123-643-9775   \n17        1018      Clark        Kent  706-695-0392   \n18        1019      Creed      Braton            Na   \n19        1020     Anakin   Skywalker  876-678-3469   \n\n                                  Address Paying Customer Do_Not_Contact  \\\n0                   123 Shire Lane, Shire             Yes             No   \n1                     93 West Main Street              No            Yes   \n2                      298 Drugs Driveway               N            NaN   \n3   980 Paper Avenue, Pennsylvania, 18503             Yes              Y   \n4                        123 Dragons Road               Y             No   \n5                        768 City Parkway             Yes            Yes   \n6                       1209 South Street              No             No   \n7                           98 Clue Drive               N             No   \n8                        123 Middle Earth             Yes            NaN   \n9              25th Main Street, New York             Yes             No   \n10                  612 Shire Lane, Shire             Yes             No   \n11                   2394 Hogwarts Avenue               Y            NaN   \n12                       2039 Main Street             Yes              N   \n13                       343 City Parkway             Yes             No   \n14                          214 HR Avenue               N             No   \n15                   2395 Hogwarts Avenue              No              N   \n16         121 Paper Avenue, Pennsylvania             Yes             No   \n17                        3498 Super Lane               Y            NaN   \n18                                    N/a             N/a            Yes   \n19            910 Tatooine Road, Tatooine             Yes              N   \n\n           Street_Adress          State Zip_code  \n0         123 Shire Lane          Shire     None  \n1    93 West Main Street           None     None  \n2     298 Drugs Driveway           None     None  \n3       980 Paper Avenue   Pennsylvania    18503  \n4       123 Dragons Road           None     None  \n5       768 City Parkway           None     None  \n6      1209 South Street           None     None  \n7          98 Clue Drive           None     None  \n8       123 Middle Earth           None     None  \n9       25th Main Street       New York     None  \n10        612 Shire Lane          Shire     None  \n11  2394 Hogwarts Avenue           None     None  \n12      2039 Main Street           None     None  \n13      343 City Parkway           None     None  \n14         214 HR Avenue           None     None  \n15  2395 Hogwarts Avenue           None     None  \n16      121 Paper Avenue   Pennsylvania     None  \n17       3498 Super Lane           None     None  \n18                   N/a           None     None  \n19     910 Tatooine Road       Tatooine     None  ",
      "text/html": "<div>\n<style scoped>\n    .dataframe tbody tr th:only-of-type {\n        vertical-align: middle;\n    }\n\n    .dataframe tbody tr th {\n        vertical-align: top;\n    }\n\n    .dataframe thead th {\n        text-align: right;\n    }\n</style>\n<table border=\"1\" class=\"dataframe\">\n  <thead>\n    <tr style=\"text-align: right;\">\n      <th></th>\n      <th>CustomerID</th>\n      <th>First_Name</th>\n      <th>Last_Name</th>\n      <th>Phone_Number</th>\n      <th>Address</th>\n      <th>Paying Customer</th>\n      <th>Do_Not_Contact</th>\n      <th>Street_Adress</th>\n      <th>State</th>\n      <th>Zip_code</th>\n    </tr>\n  </thead>\n  <tbody>\n    <tr>\n      <th>0</th>\n      <td>1001</td>\n      <td>Frodo</td>\n      <td>Baggins</td>\n      <td>123-545-5421</td>\n      <td>123 Shire Lane, Shire</td>\n      <td>Yes</td>\n      <td>No</td>\n      <td>123 Shire Lane</td>\n      <td>Shire</td>\n      <td>None</td>\n    </tr>\n    <tr>\n      <th>1</th>\n      <td>1002</td>\n      <td>Abed</td>\n      <td>Nadir</td>\n      <td>123-643-9775</td>\n      <td>93 West Main Street</td>\n      <td>No</td>\n      <td>Yes</td>\n      <td>93 West Main Street</td>\n      <td>None</td>\n      <td>None</td>\n    </tr>\n    <tr>\n      <th>2</th>\n      <td>1003</td>\n      <td>Walter</td>\n      <td>White</td>\n      <td>706-695-0392</td>\n      <td>298 Drugs Driveway</td>\n      <td>N</td>\n      <td>NaN</td>\n      <td>298 Drugs Driveway</td>\n      <td>None</td>\n      <td>None</td>\n    </tr>\n    <tr>\n      <th>3</th>\n      <td>1004</td>\n      <td>Dwight</td>\n      <td>Schrute</td>\n      <td>123-543-2345</td>\n      <td>980 Paper Avenue, Pennsylvania, 18503</td>\n      <td>Yes</td>\n      <td>Y</td>\n      <td>980 Paper Avenue</td>\n      <td>Pennsylvania</td>\n      <td>18503</td>\n    </tr>\n    <tr>\n      <th>4</th>\n      <td>1005</td>\n      <td>Jon</td>\n      <td>Snow</td>\n      <td>876-678-3469</td>\n      <td>123 Dragons Road</td>\n      <td>Y</td>\n      <td>No</td>\n      <td>123 Dragons Road</td>\n      <td>None</td>\n      <td>None</td>\n    </tr>\n    <tr>\n      <th>5</th>\n      <td>1006</td>\n      <td>Ron</td>\n      <td>Swanson</td>\n      <td>304-762-2467</td>\n      <td>768 City Parkway</td>\n      <td>Yes</td>\n      <td>Yes</td>\n      <td>768 City Parkway</td>\n      <td>None</td>\n      <td>None</td>\n    </tr>\n    <tr>\n      <th>6</th>\n      <td>1007</td>\n      <td>Jeff</td>\n      <td>Winger</td>\n      <td></td>\n      <td>1209 South Street</td>\n      <td>No</td>\n      <td>No</td>\n      <td>1209 South Street</td>\n      <td>None</td>\n      <td>None</td>\n    </tr>\n    <tr>\n      <th>7</th>\n      <td>1008</td>\n      <td>Sherlock</td>\n      <td>Holmes</td>\n      <td>876-678-3469</td>\n      <td>98 Clue Drive</td>\n      <td>N</td>\n      <td>No</td>\n      <td>98 Clue Drive</td>\n      <td>None</td>\n      <td>None</td>\n    </tr>\n    <tr>\n      <th>8</th>\n      <td>1009</td>\n      <td>Gandalf</td>\n      <td>NaN</td>\n      <td>Na</td>\n      <td>123 Middle Earth</td>\n      <td>Yes</td>\n      <td>NaN</td>\n      <td>123 Middle Earth</td>\n      <td>None</td>\n      <td>None</td>\n    </tr>\n    <tr>\n      <th>9</th>\n      <td>1010</td>\n      <td>Peter</td>\n      <td>Parker</td>\n      <td>123-545-5421</td>\n      <td>25th Main Street, New York</td>\n      <td>Yes</td>\n      <td>No</td>\n      <td>25th Main Street</td>\n      <td>New York</td>\n      <td>None</td>\n    </tr>\n    <tr>\n      <th>10</th>\n      <td>1011</td>\n      <td>Samwise</td>\n      <td>Gamgee</td>\n      <td></td>\n      <td>612 Shire Lane, Shire</td>\n      <td>Yes</td>\n      <td>No</td>\n      <td>612 Shire Lane</td>\n      <td>Shire</td>\n      <td>None</td>\n    </tr>\n    <tr>\n      <th>11</th>\n      <td>1012</td>\n      <td>Harry</td>\n      <td>Potter</td>\n      <td>706-695-0392</td>\n      <td>2394 Hogwarts Avenue</td>\n      <td>Y</td>\n      <td>NaN</td>\n      <td>2394 Hogwarts Avenue</td>\n      <td>None</td>\n      <td>None</td>\n    </tr>\n    <tr>\n      <th>12</th>\n      <td>1013</td>\n      <td>Don</td>\n      <td>Draper</td>\n      <td>123-543-2345</td>\n      <td>2039 Main Street</td>\n      <td>Yes</td>\n      <td>N</td>\n      <td>2039 Main Street</td>\n      <td>None</td>\n      <td>None</td>\n    </tr>\n    <tr>\n      <th>13</th>\n      <td>1014</td>\n      <td>Leslie</td>\n      <td>Knope</td>\n      <td>876-678-3469</td>\n      <td>343 City Parkway</td>\n      <td>Yes</td>\n      <td>No</td>\n      <td>343 City Parkway</td>\n      <td>None</td>\n      <td>None</td>\n    </tr>\n    <tr>\n      <th>14</th>\n      <td>1015</td>\n      <td>Toby</td>\n      <td>Flenderson</td>\n      <td>304-762-2467</td>\n      <td>214 HR Avenue</td>\n      <td>N</td>\n      <td>No</td>\n      <td>214 HR Avenue</td>\n      <td>None</td>\n      <td>None</td>\n    </tr>\n    <tr>\n      <th>15</th>\n      <td>1016</td>\n      <td>Ron</td>\n      <td>Weasley</td>\n      <td>123-545-5421</td>\n      <td>2395 Hogwarts Avenue</td>\n      <td>No</td>\n      <td>N</td>\n      <td>2395 Hogwarts Avenue</td>\n      <td>None</td>\n      <td>None</td>\n    </tr>\n    <tr>\n      <th>16</th>\n      <td>1017</td>\n      <td>Michael</td>\n      <td>Scott</td>\n      <td>123-643-9775</td>\n      <td>121 Paper Avenue, Pennsylvania</td>\n      <td>Yes</td>\n      <td>No</td>\n      <td>121 Paper Avenue</td>\n      <td>Pennsylvania</td>\n      <td>None</td>\n    </tr>\n    <tr>\n      <th>17</th>\n      <td>1018</td>\n      <td>Clark</td>\n      <td>Kent</td>\n      <td>706-695-0392</td>\n      <td>3498 Super Lane</td>\n      <td>Y</td>\n      <td>NaN</td>\n      <td>3498 Super Lane</td>\n      <td>None</td>\n      <td>None</td>\n    </tr>\n    <tr>\n      <th>18</th>\n      <td>1019</td>\n      <td>Creed</td>\n      <td>Braton</td>\n      <td>Na</td>\n      <td>N/a</td>\n      <td>N/a</td>\n      <td>Yes</td>\n      <td>N/a</td>\n      <td>None</td>\n      <td>None</td>\n    </tr>\n    <tr>\n      <th>19</th>\n      <td>1020</td>\n      <td>Anakin</td>\n      <td>Skywalker</td>\n      <td>876-678-3469</td>\n      <td>910 Tatooine Road, Tatooine</td>\n      <td>Yes</td>\n      <td>N</td>\n      <td>910 Tatooine Road</td>\n      <td>Tatooine</td>\n      <td>None</td>\n    </tr>\n  </tbody>\n</table>\n</div>"
     },
     "execution_count": 43,
     "metadata": {},
     "output_type": "execute_result"
    }
   ],
   "source": [
    "df[[\"Street_Adress\",\"State\",\"Zip_code\"]] = df[\"Address\"].str.split(',',2, expand=True)\n",
    "df"
   ],
   "metadata": {
    "collapsed": false,
    "ExecuteTime": {
     "end_time": "2023-10-05T03:44:15.863309600Z",
     "start_time": "2023-10-05T03:44:15.851310400Z"
    }
   }
  },
  {
   "cell_type": "markdown",
   "source": [
    "### Paying customer column"
   ],
   "metadata": {
    "collapsed": false
   }
  },
  {
   "cell_type": "code",
   "execution_count": 46,
   "outputs": [
    {
     "data": {
      "text/plain": "    CustomerID First_Name   Last_Name  Phone_Number  \\\n0         1001      Frodo     Baggins  123-545-5421   \n1         1002       Abed       Nadir  123-643-9775   \n2         1003     Walter       White  706-695-0392   \n3         1004     Dwight     Schrute  123-543-2345   \n4         1005        Jon        Snow  876-678-3469   \n5         1006        Ron     Swanson  304-762-2467   \n6         1007       Jeff      Winger                 \n7         1008   Sherlock      Holmes  876-678-3469   \n8         1009    Gandalf         NaN            Na   \n9         1010      Peter      Parker  123-545-5421   \n10        1011    Samwise      Gamgee                 \n11        1012      Harry      Potter  706-695-0392   \n12        1013        Don      Draper  123-543-2345   \n13        1014     Leslie       Knope  876-678-3469   \n14        1015       Toby  Flenderson  304-762-2467   \n15        1016        Ron     Weasley  123-545-5421   \n16        1017   Michael        Scott  123-643-9775   \n17        1018      Clark        Kent  706-695-0392   \n18        1019      Creed      Braton            Na   \n19        1020     Anakin   Skywalker  876-678-3469   \n\n                                  Address Paying Customer Do_Not_Contact  \\\n0                   123 Shire Lane, Shire               Y             No   \n1                     93 West Main Street               N            Yes   \n2                      298 Drugs Driveway               N            NaN   \n3   980 Paper Avenue, Pennsylvania, 18503               Y              Y   \n4                        123 Dragons Road               Y             No   \n5                        768 City Parkway               Y            Yes   \n6                       1209 South Street               N             No   \n7                           98 Clue Drive               N             No   \n8                        123 Middle Earth               Y            NaN   \n9              25th Main Street, New York               Y             No   \n10                  612 Shire Lane, Shire               Y             No   \n11                   2394 Hogwarts Avenue               Y            NaN   \n12                       2039 Main Street               Y              N   \n13                       343 City Parkway               Y             No   \n14                          214 HR Avenue               N             No   \n15                   2395 Hogwarts Avenue               N              N   \n16         121 Paper Avenue, Pennsylvania               Y             No   \n17                        3498 Super Lane               Y            NaN   \n18                                    N/a             N/a            Yes   \n19            910 Tatooine Road, Tatooine               Y              N   \n\n           Street_Adress          State Zip_code  \n0         123 Shire Lane          Shire     None  \n1    93 West Main Street           None     None  \n2     298 Drugs Driveway           None     None  \n3       980 Paper Avenue   Pennsylvania    18503  \n4       123 Dragons Road           None     None  \n5       768 City Parkway           None     None  \n6      1209 South Street           None     None  \n7          98 Clue Drive           None     None  \n8       123 Middle Earth           None     None  \n9       25th Main Street       New York     None  \n10        612 Shire Lane          Shire     None  \n11  2394 Hogwarts Avenue           None     None  \n12      2039 Main Street           None     None  \n13      343 City Parkway           None     None  \n14         214 HR Avenue           None     None  \n15  2395 Hogwarts Avenue           None     None  \n16      121 Paper Avenue   Pennsylvania     None  \n17       3498 Super Lane           None     None  \n18                   N/a           None     None  \n19     910 Tatooine Road       Tatooine     None  ",
      "text/html": "<div>\n<style scoped>\n    .dataframe tbody tr th:only-of-type {\n        vertical-align: middle;\n    }\n\n    .dataframe tbody tr th {\n        vertical-align: top;\n    }\n\n    .dataframe thead th {\n        text-align: right;\n    }\n</style>\n<table border=\"1\" class=\"dataframe\">\n  <thead>\n    <tr style=\"text-align: right;\">\n      <th></th>\n      <th>CustomerID</th>\n      <th>First_Name</th>\n      <th>Last_Name</th>\n      <th>Phone_Number</th>\n      <th>Address</th>\n      <th>Paying Customer</th>\n      <th>Do_Not_Contact</th>\n      <th>Street_Adress</th>\n      <th>State</th>\n      <th>Zip_code</th>\n    </tr>\n  </thead>\n  <tbody>\n    <tr>\n      <th>0</th>\n      <td>1001</td>\n      <td>Frodo</td>\n      <td>Baggins</td>\n      <td>123-545-5421</td>\n      <td>123 Shire Lane, Shire</td>\n      <td>Y</td>\n      <td>No</td>\n      <td>123 Shire Lane</td>\n      <td>Shire</td>\n      <td>None</td>\n    </tr>\n    <tr>\n      <th>1</th>\n      <td>1002</td>\n      <td>Abed</td>\n      <td>Nadir</td>\n      <td>123-643-9775</td>\n      <td>93 West Main Street</td>\n      <td>N</td>\n      <td>Yes</td>\n      <td>93 West Main Street</td>\n      <td>None</td>\n      <td>None</td>\n    </tr>\n    <tr>\n      <th>2</th>\n      <td>1003</td>\n      <td>Walter</td>\n      <td>White</td>\n      <td>706-695-0392</td>\n      <td>298 Drugs Driveway</td>\n      <td>N</td>\n      <td>NaN</td>\n      <td>298 Drugs Driveway</td>\n      <td>None</td>\n      <td>None</td>\n    </tr>\n    <tr>\n      <th>3</th>\n      <td>1004</td>\n      <td>Dwight</td>\n      <td>Schrute</td>\n      <td>123-543-2345</td>\n      <td>980 Paper Avenue, Pennsylvania, 18503</td>\n      <td>Y</td>\n      <td>Y</td>\n      <td>980 Paper Avenue</td>\n      <td>Pennsylvania</td>\n      <td>18503</td>\n    </tr>\n    <tr>\n      <th>4</th>\n      <td>1005</td>\n      <td>Jon</td>\n      <td>Snow</td>\n      <td>876-678-3469</td>\n      <td>123 Dragons Road</td>\n      <td>Y</td>\n      <td>No</td>\n      <td>123 Dragons Road</td>\n      <td>None</td>\n      <td>None</td>\n    </tr>\n    <tr>\n      <th>5</th>\n      <td>1006</td>\n      <td>Ron</td>\n      <td>Swanson</td>\n      <td>304-762-2467</td>\n      <td>768 City Parkway</td>\n      <td>Y</td>\n      <td>Yes</td>\n      <td>768 City Parkway</td>\n      <td>None</td>\n      <td>None</td>\n    </tr>\n    <tr>\n      <th>6</th>\n      <td>1007</td>\n      <td>Jeff</td>\n      <td>Winger</td>\n      <td></td>\n      <td>1209 South Street</td>\n      <td>N</td>\n      <td>No</td>\n      <td>1209 South Street</td>\n      <td>None</td>\n      <td>None</td>\n    </tr>\n    <tr>\n      <th>7</th>\n      <td>1008</td>\n      <td>Sherlock</td>\n      <td>Holmes</td>\n      <td>876-678-3469</td>\n      <td>98 Clue Drive</td>\n      <td>N</td>\n      <td>No</td>\n      <td>98 Clue Drive</td>\n      <td>None</td>\n      <td>None</td>\n    </tr>\n    <tr>\n      <th>8</th>\n      <td>1009</td>\n      <td>Gandalf</td>\n      <td>NaN</td>\n      <td>Na</td>\n      <td>123 Middle Earth</td>\n      <td>Y</td>\n      <td>NaN</td>\n      <td>123 Middle Earth</td>\n      <td>None</td>\n      <td>None</td>\n    </tr>\n    <tr>\n      <th>9</th>\n      <td>1010</td>\n      <td>Peter</td>\n      <td>Parker</td>\n      <td>123-545-5421</td>\n      <td>25th Main Street, New York</td>\n      <td>Y</td>\n      <td>No</td>\n      <td>25th Main Street</td>\n      <td>New York</td>\n      <td>None</td>\n    </tr>\n    <tr>\n      <th>10</th>\n      <td>1011</td>\n      <td>Samwise</td>\n      <td>Gamgee</td>\n      <td></td>\n      <td>612 Shire Lane, Shire</td>\n      <td>Y</td>\n      <td>No</td>\n      <td>612 Shire Lane</td>\n      <td>Shire</td>\n      <td>None</td>\n    </tr>\n    <tr>\n      <th>11</th>\n      <td>1012</td>\n      <td>Harry</td>\n      <td>Potter</td>\n      <td>706-695-0392</td>\n      <td>2394 Hogwarts Avenue</td>\n      <td>Y</td>\n      <td>NaN</td>\n      <td>2394 Hogwarts Avenue</td>\n      <td>None</td>\n      <td>None</td>\n    </tr>\n    <tr>\n      <th>12</th>\n      <td>1013</td>\n      <td>Don</td>\n      <td>Draper</td>\n      <td>123-543-2345</td>\n      <td>2039 Main Street</td>\n      <td>Y</td>\n      <td>N</td>\n      <td>2039 Main Street</td>\n      <td>None</td>\n      <td>None</td>\n    </tr>\n    <tr>\n      <th>13</th>\n      <td>1014</td>\n      <td>Leslie</td>\n      <td>Knope</td>\n      <td>876-678-3469</td>\n      <td>343 City Parkway</td>\n      <td>Y</td>\n      <td>No</td>\n      <td>343 City Parkway</td>\n      <td>None</td>\n      <td>None</td>\n    </tr>\n    <tr>\n      <th>14</th>\n      <td>1015</td>\n      <td>Toby</td>\n      <td>Flenderson</td>\n      <td>304-762-2467</td>\n      <td>214 HR Avenue</td>\n      <td>N</td>\n      <td>No</td>\n      <td>214 HR Avenue</td>\n      <td>None</td>\n      <td>None</td>\n    </tr>\n    <tr>\n      <th>15</th>\n      <td>1016</td>\n      <td>Ron</td>\n      <td>Weasley</td>\n      <td>123-545-5421</td>\n      <td>2395 Hogwarts Avenue</td>\n      <td>N</td>\n      <td>N</td>\n      <td>2395 Hogwarts Avenue</td>\n      <td>None</td>\n      <td>None</td>\n    </tr>\n    <tr>\n      <th>16</th>\n      <td>1017</td>\n      <td>Michael</td>\n      <td>Scott</td>\n      <td>123-643-9775</td>\n      <td>121 Paper Avenue, Pennsylvania</td>\n      <td>Y</td>\n      <td>No</td>\n      <td>121 Paper Avenue</td>\n      <td>Pennsylvania</td>\n      <td>None</td>\n    </tr>\n    <tr>\n      <th>17</th>\n      <td>1018</td>\n      <td>Clark</td>\n      <td>Kent</td>\n      <td>706-695-0392</td>\n      <td>3498 Super Lane</td>\n      <td>Y</td>\n      <td>NaN</td>\n      <td>3498 Super Lane</td>\n      <td>None</td>\n      <td>None</td>\n    </tr>\n    <tr>\n      <th>18</th>\n      <td>1019</td>\n      <td>Creed</td>\n      <td>Braton</td>\n      <td>Na</td>\n      <td>N/a</td>\n      <td>N/a</td>\n      <td>Yes</td>\n      <td>N/a</td>\n      <td>None</td>\n      <td>None</td>\n    </tr>\n    <tr>\n      <th>19</th>\n      <td>1020</td>\n      <td>Anakin</td>\n      <td>Skywalker</td>\n      <td>876-678-3469</td>\n      <td>910 Tatooine Road, Tatooine</td>\n      <td>Y</td>\n      <td>N</td>\n      <td>910 Tatooine Road</td>\n      <td>Tatooine</td>\n      <td>None</td>\n    </tr>\n  </tbody>\n</table>\n</div>"
     },
     "execution_count": 46,
     "metadata": {},
     "output_type": "execute_result"
    }
   ],
   "source": [
    "df[\"Paying Customer\"] = df[\"Paying Customer\"].str.replace('Yes','Y')\n",
    "df[\"Paying Customer\"] = df[\"Paying Customer\"].str.replace('No','N')\n",
    "df"
   ],
   "metadata": {
    "collapsed": false,
    "ExecuteTime": {
     "end_time": "2023-10-05T03:44:51.757452500Z",
     "start_time": "2023-10-05T03:44:51.732256600Z"
    }
   }
  },
  {
   "cell_type": "code",
   "execution_count": 47,
   "outputs": [
    {
     "data": {
      "text/plain": "    CustomerID First_Name   Last_Name  Phone_Number  \\\n0         1001      Frodo     Baggins  123-545-5421   \n1         1002       Abed       Nadir  123-643-9775   \n2         1003     Walter       White  706-695-0392   \n3         1004     Dwight     Schrute  123-543-2345   \n4         1005        Jon        Snow  876-678-3469   \n5         1006        Ron     Swanson  304-762-2467   \n6         1007       Jeff      Winger                 \n7         1008   Sherlock      Holmes  876-678-3469   \n8         1009    Gandalf         NaN            Na   \n9         1010      Peter      Parker  123-545-5421   \n10        1011    Samwise      Gamgee                 \n11        1012      Harry      Potter  706-695-0392   \n12        1013        Don      Draper  123-543-2345   \n13        1014     Leslie       Knope  876-678-3469   \n14        1015       Toby  Flenderson  304-762-2467   \n15        1016        Ron     Weasley  123-545-5421   \n16        1017   Michael        Scott  123-643-9775   \n17        1018      Clark        Kent  706-695-0392   \n18        1019      Creed      Braton            Na   \n19        1020     Anakin   Skywalker  876-678-3469   \n\n                                  Address Paying Customer Do_Not_Contact  \\\n0                   123 Shire Lane, Shire               Y              N   \n1                     93 West Main Street               N              Y   \n2                      298 Drugs Driveway               N            NaN   \n3   980 Paper Avenue, Pennsylvania, 18503               Y              Y   \n4                        123 Dragons Road               Y              N   \n5                        768 City Parkway               Y              Y   \n6                       1209 South Street               N              N   \n7                           98 Clue Drive               N              N   \n8                        123 Middle Earth               Y            NaN   \n9              25th Main Street, New York               Y              N   \n10                  612 Shire Lane, Shire               Y              N   \n11                   2394 Hogwarts Avenue               Y            NaN   \n12                       2039 Main Street               Y              N   \n13                       343 City Parkway               Y              N   \n14                          214 HR Avenue               N              N   \n15                   2395 Hogwarts Avenue               N              N   \n16         121 Paper Avenue, Pennsylvania               Y              N   \n17                        3498 Super Lane               Y            NaN   \n18                                    N/a             N/a              Y   \n19            910 Tatooine Road, Tatooine               Y              N   \n\n           Street_Adress          State Zip_code  \n0         123 Shire Lane          Shire     None  \n1    93 West Main Street           None     None  \n2     298 Drugs Driveway           None     None  \n3       980 Paper Avenue   Pennsylvania    18503  \n4       123 Dragons Road           None     None  \n5       768 City Parkway           None     None  \n6      1209 South Street           None     None  \n7          98 Clue Drive           None     None  \n8       123 Middle Earth           None     None  \n9       25th Main Street       New York     None  \n10        612 Shire Lane          Shire     None  \n11  2394 Hogwarts Avenue           None     None  \n12      2039 Main Street           None     None  \n13      343 City Parkway           None     None  \n14         214 HR Avenue           None     None  \n15  2395 Hogwarts Avenue           None     None  \n16      121 Paper Avenue   Pennsylvania     None  \n17       3498 Super Lane           None     None  \n18                   N/a           None     None  \n19     910 Tatooine Road       Tatooine     None  ",
      "text/html": "<div>\n<style scoped>\n    .dataframe tbody tr th:only-of-type {\n        vertical-align: middle;\n    }\n\n    .dataframe tbody tr th {\n        vertical-align: top;\n    }\n\n    .dataframe thead th {\n        text-align: right;\n    }\n</style>\n<table border=\"1\" class=\"dataframe\">\n  <thead>\n    <tr style=\"text-align: right;\">\n      <th></th>\n      <th>CustomerID</th>\n      <th>First_Name</th>\n      <th>Last_Name</th>\n      <th>Phone_Number</th>\n      <th>Address</th>\n      <th>Paying Customer</th>\n      <th>Do_Not_Contact</th>\n      <th>Street_Adress</th>\n      <th>State</th>\n      <th>Zip_code</th>\n    </tr>\n  </thead>\n  <tbody>\n    <tr>\n      <th>0</th>\n      <td>1001</td>\n      <td>Frodo</td>\n      <td>Baggins</td>\n      <td>123-545-5421</td>\n      <td>123 Shire Lane, Shire</td>\n      <td>Y</td>\n      <td>N</td>\n      <td>123 Shire Lane</td>\n      <td>Shire</td>\n      <td>None</td>\n    </tr>\n    <tr>\n      <th>1</th>\n      <td>1002</td>\n      <td>Abed</td>\n      <td>Nadir</td>\n      <td>123-643-9775</td>\n      <td>93 West Main Street</td>\n      <td>N</td>\n      <td>Y</td>\n      <td>93 West Main Street</td>\n      <td>None</td>\n      <td>None</td>\n    </tr>\n    <tr>\n      <th>2</th>\n      <td>1003</td>\n      <td>Walter</td>\n      <td>White</td>\n      <td>706-695-0392</td>\n      <td>298 Drugs Driveway</td>\n      <td>N</td>\n      <td>NaN</td>\n      <td>298 Drugs Driveway</td>\n      <td>None</td>\n      <td>None</td>\n    </tr>\n    <tr>\n      <th>3</th>\n      <td>1004</td>\n      <td>Dwight</td>\n      <td>Schrute</td>\n      <td>123-543-2345</td>\n      <td>980 Paper Avenue, Pennsylvania, 18503</td>\n      <td>Y</td>\n      <td>Y</td>\n      <td>980 Paper Avenue</td>\n      <td>Pennsylvania</td>\n      <td>18503</td>\n    </tr>\n    <tr>\n      <th>4</th>\n      <td>1005</td>\n      <td>Jon</td>\n      <td>Snow</td>\n      <td>876-678-3469</td>\n      <td>123 Dragons Road</td>\n      <td>Y</td>\n      <td>N</td>\n      <td>123 Dragons Road</td>\n      <td>None</td>\n      <td>None</td>\n    </tr>\n    <tr>\n      <th>5</th>\n      <td>1006</td>\n      <td>Ron</td>\n      <td>Swanson</td>\n      <td>304-762-2467</td>\n      <td>768 City Parkway</td>\n      <td>Y</td>\n      <td>Y</td>\n      <td>768 City Parkway</td>\n      <td>None</td>\n      <td>None</td>\n    </tr>\n    <tr>\n      <th>6</th>\n      <td>1007</td>\n      <td>Jeff</td>\n      <td>Winger</td>\n      <td></td>\n      <td>1209 South Street</td>\n      <td>N</td>\n      <td>N</td>\n      <td>1209 South Street</td>\n      <td>None</td>\n      <td>None</td>\n    </tr>\n    <tr>\n      <th>7</th>\n      <td>1008</td>\n      <td>Sherlock</td>\n      <td>Holmes</td>\n      <td>876-678-3469</td>\n      <td>98 Clue Drive</td>\n      <td>N</td>\n      <td>N</td>\n      <td>98 Clue Drive</td>\n      <td>None</td>\n      <td>None</td>\n    </tr>\n    <tr>\n      <th>8</th>\n      <td>1009</td>\n      <td>Gandalf</td>\n      <td>NaN</td>\n      <td>Na</td>\n      <td>123 Middle Earth</td>\n      <td>Y</td>\n      <td>NaN</td>\n      <td>123 Middle Earth</td>\n      <td>None</td>\n      <td>None</td>\n    </tr>\n    <tr>\n      <th>9</th>\n      <td>1010</td>\n      <td>Peter</td>\n      <td>Parker</td>\n      <td>123-545-5421</td>\n      <td>25th Main Street, New York</td>\n      <td>Y</td>\n      <td>N</td>\n      <td>25th Main Street</td>\n      <td>New York</td>\n      <td>None</td>\n    </tr>\n    <tr>\n      <th>10</th>\n      <td>1011</td>\n      <td>Samwise</td>\n      <td>Gamgee</td>\n      <td></td>\n      <td>612 Shire Lane, Shire</td>\n      <td>Y</td>\n      <td>N</td>\n      <td>612 Shire Lane</td>\n      <td>Shire</td>\n      <td>None</td>\n    </tr>\n    <tr>\n      <th>11</th>\n      <td>1012</td>\n      <td>Harry</td>\n      <td>Potter</td>\n      <td>706-695-0392</td>\n      <td>2394 Hogwarts Avenue</td>\n      <td>Y</td>\n      <td>NaN</td>\n      <td>2394 Hogwarts Avenue</td>\n      <td>None</td>\n      <td>None</td>\n    </tr>\n    <tr>\n      <th>12</th>\n      <td>1013</td>\n      <td>Don</td>\n      <td>Draper</td>\n      <td>123-543-2345</td>\n      <td>2039 Main Street</td>\n      <td>Y</td>\n      <td>N</td>\n      <td>2039 Main Street</td>\n      <td>None</td>\n      <td>None</td>\n    </tr>\n    <tr>\n      <th>13</th>\n      <td>1014</td>\n      <td>Leslie</td>\n      <td>Knope</td>\n      <td>876-678-3469</td>\n      <td>343 City Parkway</td>\n      <td>Y</td>\n      <td>N</td>\n      <td>343 City Parkway</td>\n      <td>None</td>\n      <td>None</td>\n    </tr>\n    <tr>\n      <th>14</th>\n      <td>1015</td>\n      <td>Toby</td>\n      <td>Flenderson</td>\n      <td>304-762-2467</td>\n      <td>214 HR Avenue</td>\n      <td>N</td>\n      <td>N</td>\n      <td>214 HR Avenue</td>\n      <td>None</td>\n      <td>None</td>\n    </tr>\n    <tr>\n      <th>15</th>\n      <td>1016</td>\n      <td>Ron</td>\n      <td>Weasley</td>\n      <td>123-545-5421</td>\n      <td>2395 Hogwarts Avenue</td>\n      <td>N</td>\n      <td>N</td>\n      <td>2395 Hogwarts Avenue</td>\n      <td>None</td>\n      <td>None</td>\n    </tr>\n    <tr>\n      <th>16</th>\n      <td>1017</td>\n      <td>Michael</td>\n      <td>Scott</td>\n      <td>123-643-9775</td>\n      <td>121 Paper Avenue, Pennsylvania</td>\n      <td>Y</td>\n      <td>N</td>\n      <td>121 Paper Avenue</td>\n      <td>Pennsylvania</td>\n      <td>None</td>\n    </tr>\n    <tr>\n      <th>17</th>\n      <td>1018</td>\n      <td>Clark</td>\n      <td>Kent</td>\n      <td>706-695-0392</td>\n      <td>3498 Super Lane</td>\n      <td>Y</td>\n      <td>NaN</td>\n      <td>3498 Super Lane</td>\n      <td>None</td>\n      <td>None</td>\n    </tr>\n    <tr>\n      <th>18</th>\n      <td>1019</td>\n      <td>Creed</td>\n      <td>Braton</td>\n      <td>Na</td>\n      <td>N/a</td>\n      <td>N/a</td>\n      <td>Y</td>\n      <td>N/a</td>\n      <td>None</td>\n      <td>None</td>\n    </tr>\n    <tr>\n      <th>19</th>\n      <td>1020</td>\n      <td>Anakin</td>\n      <td>Skywalker</td>\n      <td>876-678-3469</td>\n      <td>910 Tatooine Road, Tatooine</td>\n      <td>Y</td>\n      <td>N</td>\n      <td>910 Tatooine Road</td>\n      <td>Tatooine</td>\n      <td>None</td>\n    </tr>\n  </tbody>\n</table>\n</div>"
     },
     "execution_count": 47,
     "metadata": {},
     "output_type": "execute_result"
    }
   ],
   "source": [
    "df[\"Do_Not_Contact\"] = df[\"Do_Not_Contact\"].str.replace('Yes','Y')\n",
    "df[\"Do_Not_Contact\"] = df[\"Do_Not_Contact\"].str.replace('No','N')\n",
    "df"
   ],
   "metadata": {
    "collapsed": false,
    "ExecuteTime": {
     "end_time": "2023-10-05T03:45:13.015256500Z",
     "start_time": "2023-10-05T03:45:12.988026600Z"
    }
   }
  },
  {
   "cell_type": "markdown",
   "source": [
    "## Tratement Null/NaN"
   ],
   "metadata": {
    "collapsed": false
   }
  },
  {
   "cell_type": "code",
   "execution_count": 51,
   "outputs": [],
   "source": [
    "df = df.fillna('')"
   ],
   "metadata": {
    "collapsed": false,
    "ExecuteTime": {
     "end_time": "2023-10-05T03:47:58.437888900Z",
     "start_time": "2023-10-05T03:47:58.416812500Z"
    }
   }
  },
  {
   "cell_type": "code",
   "execution_count": 52,
   "outputs": [],
   "source": [
    "df = df.replace('Na', '')"
   ],
   "metadata": {
    "collapsed": false,
    "ExecuteTime": {
     "end_time": "2023-10-05T03:48:03.866784900Z",
     "start_time": "2023-10-05T03:48:03.853485900Z"
    }
   }
  },
  {
   "cell_type": "code",
   "execution_count": 54,
   "outputs": [],
   "source": [
    "df = df.replace('N/a', '')"
   ],
   "metadata": {
    "collapsed": false,
    "ExecuteTime": {
     "end_time": "2023-10-05T03:48:15.071765500Z",
     "start_time": "2023-10-05T03:48:15.057387900Z"
    }
   }
  },
  {
   "cell_type": "code",
   "execution_count": 55,
   "outputs": [
    {
     "data": {
      "text/plain": "    CustomerID First_Name   Last_Name  Phone_Number  \\\n0         1001      Frodo     Baggins  123-545-5421   \n1         1002       Abed       Nadir  123-643-9775   \n2         1003     Walter       White  706-695-0392   \n3         1004     Dwight     Schrute  123-543-2345   \n4         1005        Jon        Snow  876-678-3469   \n5         1006        Ron     Swanson  304-762-2467   \n6         1007       Jeff      Winger                 \n7         1008   Sherlock      Holmes  876-678-3469   \n8         1009    Gandalf                             \n9         1010      Peter      Parker  123-545-5421   \n10        1011    Samwise      Gamgee                 \n11        1012      Harry      Potter  706-695-0392   \n12        1013        Don      Draper  123-543-2345   \n13        1014     Leslie       Knope  876-678-3469   \n14        1015       Toby  Flenderson  304-762-2467   \n15        1016        Ron     Weasley  123-545-5421   \n16        1017   Michael        Scott  123-643-9775   \n17        1018      Clark        Kent  706-695-0392   \n18        1019      Creed      Braton                 \n19        1020     Anakin   Skywalker  876-678-3469   \n\n                                  Address Paying Customer Do_Not_Contact  \\\n0                   123 Shire Lane, Shire               Y              N   \n1                     93 West Main Street               N              Y   \n2                      298 Drugs Driveway               N                  \n3   980 Paper Avenue, Pennsylvania, 18503               Y              Y   \n4                        123 Dragons Road               Y              N   \n5                        768 City Parkway               Y              Y   \n6                       1209 South Street               N              N   \n7                           98 Clue Drive               N              N   \n8                        123 Middle Earth               Y                  \n9              25th Main Street, New York               Y              N   \n10                  612 Shire Lane, Shire               Y              N   \n11                   2394 Hogwarts Avenue               Y                  \n12                       2039 Main Street               Y              N   \n13                       343 City Parkway               Y              N   \n14                          214 HR Avenue               N              N   \n15                   2395 Hogwarts Avenue               N              N   \n16         121 Paper Avenue, Pennsylvania               Y              N   \n17                        3498 Super Lane               Y                  \n18                                                                     Y   \n19            910 Tatooine Road, Tatooine               Y              N   \n\n           Street_Adress          State Zip_code  \n0         123 Shire Lane          Shire           \n1    93 West Main Street                          \n2     298 Drugs Driveway                          \n3       980 Paper Avenue   Pennsylvania    18503  \n4       123 Dragons Road                          \n5       768 City Parkway                          \n6      1209 South Street                          \n7          98 Clue Drive                          \n8       123 Middle Earth                          \n9       25th Main Street       New York           \n10        612 Shire Lane          Shire           \n11  2394 Hogwarts Avenue                          \n12      2039 Main Street                          \n13      343 City Parkway                          \n14         214 HR Avenue                          \n15  2395 Hogwarts Avenue                          \n16      121 Paper Avenue   Pennsylvania           \n17       3498 Super Lane                          \n18                                                \n19     910 Tatooine Road       Tatooine           ",
      "text/html": "<div>\n<style scoped>\n    .dataframe tbody tr th:only-of-type {\n        vertical-align: middle;\n    }\n\n    .dataframe tbody tr th {\n        vertical-align: top;\n    }\n\n    .dataframe thead th {\n        text-align: right;\n    }\n</style>\n<table border=\"1\" class=\"dataframe\">\n  <thead>\n    <tr style=\"text-align: right;\">\n      <th></th>\n      <th>CustomerID</th>\n      <th>First_Name</th>\n      <th>Last_Name</th>\n      <th>Phone_Number</th>\n      <th>Address</th>\n      <th>Paying Customer</th>\n      <th>Do_Not_Contact</th>\n      <th>Street_Adress</th>\n      <th>State</th>\n      <th>Zip_code</th>\n    </tr>\n  </thead>\n  <tbody>\n    <tr>\n      <th>0</th>\n      <td>1001</td>\n      <td>Frodo</td>\n      <td>Baggins</td>\n      <td>123-545-5421</td>\n      <td>123 Shire Lane, Shire</td>\n      <td>Y</td>\n      <td>N</td>\n      <td>123 Shire Lane</td>\n      <td>Shire</td>\n      <td></td>\n    </tr>\n    <tr>\n      <th>1</th>\n      <td>1002</td>\n      <td>Abed</td>\n      <td>Nadir</td>\n      <td>123-643-9775</td>\n      <td>93 West Main Street</td>\n      <td>N</td>\n      <td>Y</td>\n      <td>93 West Main Street</td>\n      <td></td>\n      <td></td>\n    </tr>\n    <tr>\n      <th>2</th>\n      <td>1003</td>\n      <td>Walter</td>\n      <td>White</td>\n      <td>706-695-0392</td>\n      <td>298 Drugs Driveway</td>\n      <td>N</td>\n      <td></td>\n      <td>298 Drugs Driveway</td>\n      <td></td>\n      <td></td>\n    </tr>\n    <tr>\n      <th>3</th>\n      <td>1004</td>\n      <td>Dwight</td>\n      <td>Schrute</td>\n      <td>123-543-2345</td>\n      <td>980 Paper Avenue, Pennsylvania, 18503</td>\n      <td>Y</td>\n      <td>Y</td>\n      <td>980 Paper Avenue</td>\n      <td>Pennsylvania</td>\n      <td>18503</td>\n    </tr>\n    <tr>\n      <th>4</th>\n      <td>1005</td>\n      <td>Jon</td>\n      <td>Snow</td>\n      <td>876-678-3469</td>\n      <td>123 Dragons Road</td>\n      <td>Y</td>\n      <td>N</td>\n      <td>123 Dragons Road</td>\n      <td></td>\n      <td></td>\n    </tr>\n    <tr>\n      <th>5</th>\n      <td>1006</td>\n      <td>Ron</td>\n      <td>Swanson</td>\n      <td>304-762-2467</td>\n      <td>768 City Parkway</td>\n      <td>Y</td>\n      <td>Y</td>\n      <td>768 City Parkway</td>\n      <td></td>\n      <td></td>\n    </tr>\n    <tr>\n      <th>6</th>\n      <td>1007</td>\n      <td>Jeff</td>\n      <td>Winger</td>\n      <td></td>\n      <td>1209 South Street</td>\n      <td>N</td>\n      <td>N</td>\n      <td>1209 South Street</td>\n      <td></td>\n      <td></td>\n    </tr>\n    <tr>\n      <th>7</th>\n      <td>1008</td>\n      <td>Sherlock</td>\n      <td>Holmes</td>\n      <td>876-678-3469</td>\n      <td>98 Clue Drive</td>\n      <td>N</td>\n      <td>N</td>\n      <td>98 Clue Drive</td>\n      <td></td>\n      <td></td>\n    </tr>\n    <tr>\n      <th>8</th>\n      <td>1009</td>\n      <td>Gandalf</td>\n      <td></td>\n      <td></td>\n      <td>123 Middle Earth</td>\n      <td>Y</td>\n      <td></td>\n      <td>123 Middle Earth</td>\n      <td></td>\n      <td></td>\n    </tr>\n    <tr>\n      <th>9</th>\n      <td>1010</td>\n      <td>Peter</td>\n      <td>Parker</td>\n      <td>123-545-5421</td>\n      <td>25th Main Street, New York</td>\n      <td>Y</td>\n      <td>N</td>\n      <td>25th Main Street</td>\n      <td>New York</td>\n      <td></td>\n    </tr>\n    <tr>\n      <th>10</th>\n      <td>1011</td>\n      <td>Samwise</td>\n      <td>Gamgee</td>\n      <td></td>\n      <td>612 Shire Lane, Shire</td>\n      <td>Y</td>\n      <td>N</td>\n      <td>612 Shire Lane</td>\n      <td>Shire</td>\n      <td></td>\n    </tr>\n    <tr>\n      <th>11</th>\n      <td>1012</td>\n      <td>Harry</td>\n      <td>Potter</td>\n      <td>706-695-0392</td>\n      <td>2394 Hogwarts Avenue</td>\n      <td>Y</td>\n      <td></td>\n      <td>2394 Hogwarts Avenue</td>\n      <td></td>\n      <td></td>\n    </tr>\n    <tr>\n      <th>12</th>\n      <td>1013</td>\n      <td>Don</td>\n      <td>Draper</td>\n      <td>123-543-2345</td>\n      <td>2039 Main Street</td>\n      <td>Y</td>\n      <td>N</td>\n      <td>2039 Main Street</td>\n      <td></td>\n      <td></td>\n    </tr>\n    <tr>\n      <th>13</th>\n      <td>1014</td>\n      <td>Leslie</td>\n      <td>Knope</td>\n      <td>876-678-3469</td>\n      <td>343 City Parkway</td>\n      <td>Y</td>\n      <td>N</td>\n      <td>343 City Parkway</td>\n      <td></td>\n      <td></td>\n    </tr>\n    <tr>\n      <th>14</th>\n      <td>1015</td>\n      <td>Toby</td>\n      <td>Flenderson</td>\n      <td>304-762-2467</td>\n      <td>214 HR Avenue</td>\n      <td>N</td>\n      <td>N</td>\n      <td>214 HR Avenue</td>\n      <td></td>\n      <td></td>\n    </tr>\n    <tr>\n      <th>15</th>\n      <td>1016</td>\n      <td>Ron</td>\n      <td>Weasley</td>\n      <td>123-545-5421</td>\n      <td>2395 Hogwarts Avenue</td>\n      <td>N</td>\n      <td>N</td>\n      <td>2395 Hogwarts Avenue</td>\n      <td></td>\n      <td></td>\n    </tr>\n    <tr>\n      <th>16</th>\n      <td>1017</td>\n      <td>Michael</td>\n      <td>Scott</td>\n      <td>123-643-9775</td>\n      <td>121 Paper Avenue, Pennsylvania</td>\n      <td>Y</td>\n      <td>N</td>\n      <td>121 Paper Avenue</td>\n      <td>Pennsylvania</td>\n      <td></td>\n    </tr>\n    <tr>\n      <th>17</th>\n      <td>1018</td>\n      <td>Clark</td>\n      <td>Kent</td>\n      <td>706-695-0392</td>\n      <td>3498 Super Lane</td>\n      <td>Y</td>\n      <td></td>\n      <td>3498 Super Lane</td>\n      <td></td>\n      <td></td>\n    </tr>\n    <tr>\n      <th>18</th>\n      <td>1019</td>\n      <td>Creed</td>\n      <td>Braton</td>\n      <td></td>\n      <td></td>\n      <td></td>\n      <td>Y</td>\n      <td></td>\n      <td></td>\n      <td></td>\n    </tr>\n    <tr>\n      <th>19</th>\n      <td>1020</td>\n      <td>Anakin</td>\n      <td>Skywalker</td>\n      <td>876-678-3469</td>\n      <td>910 Tatooine Road, Tatooine</td>\n      <td>Y</td>\n      <td>N</td>\n      <td>910 Tatooine Road</td>\n      <td>Tatooine</td>\n      <td></td>\n    </tr>\n  </tbody>\n</table>\n</div>"
     },
     "execution_count": 55,
     "metadata": {},
     "output_type": "execute_result"
    }
   ],
   "source": [
    "df"
   ],
   "metadata": {
    "collapsed": false,
    "ExecuteTime": {
     "end_time": "2023-10-05T03:48:17.238446800Z",
     "start_time": "2023-10-05T03:48:17.224438700Z"
    }
   }
  },
  {
   "cell_type": "code",
   "execution_count": null,
   "outputs": [],
   "source": [],
   "metadata": {
    "collapsed": false
   }
  }
 ],
 "metadata": {
  "kernelspec": {
   "display_name": "Python 3.11.0 64-bit",
   "language": "python",
   "name": "python3"
  },
  "language_info": {
   "name": "python",
   "version": "3.11.0"
  },
  "orig_nbformat": 4,
  "vscode": {
   "interpreter": {
    "hash": "43daf46ee1a2bec30820ad54ca49c547678bba27ad881deae1888b1ba966de35"
   }
  }
 },
 "nbformat": 4,
 "nbformat_minor": 2
}
